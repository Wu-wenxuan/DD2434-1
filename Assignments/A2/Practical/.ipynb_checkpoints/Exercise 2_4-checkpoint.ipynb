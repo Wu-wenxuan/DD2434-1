{
 "cells": [
  {
   "cell_type": "markdown",
   "metadata": {},
   "source": [
    "The factorized variational approximation for posterior distribution is given by: $ q(\\mu, \\tau) = q_{\\mu}(\\mu)\\:q_{\\tau}(\\tau) $"
   ]
  },
  {
   "cell_type": "code",
   "execution_count": 113,
   "metadata": {},
   "outputs": [],
   "source": [
    "# IMPORTS\n",
    "import numpy as np\n",
    "import matplotlib.pyplot as plt"
   ]
  },
  {
   "cell_type": "code",
   "execution_count": 114,
   "metadata": {},
   "outputs": [],
   "source": [
    "# VARIABLES\n",
    "samples_number = 100\n",
    "mu_0 = 1\n",
    "lambda_0 = 1\n",
    "a_0 = 1\n",
    "b_0 = 1\n",
    "a_N = 1\n",
    "b_N = 1\n",
    "x_axis = np.arange(-1,1,0.02)\n",
    "y_axis = np.arange(0,2,0.02)"
   ]
  },
  {
   "cell_type": "code",
   "execution_count": 115,
   "metadata": {},
   "outputs": [],
   "source": [
    "# SAMPLES GENERATION\n",
    "tau_0 = np.random.gamma(a_0, b_0)\n",
    "mu_samples = np.random.normal(mu_0, 1 / (lambda_0 * tau_0))\n",
    "vector = np.random.normal(mu_samples, 1 / tau_0, samples_number)"
   ]
  },
  {
   "cell_type": "markdown",
   "metadata": {},
   "source": [
    "Calculate $ q_{\\mu}(\\mu) = \\mathcal{N}(\\mu|\\mu_N, \\lambda_N^{-1})$"
   ]
  },
  {
   "cell_type": "code",
   "execution_count": 116,
   "metadata": {},
   "outputs": [],
   "source": [
    "def compute_qmu(lambda_0, mu_0, vector, a_N, b_N):\n",
    "    \n",
    "    mu_N = (lambda_0 * mu_0 + len(vector) * np.sum(vector)) / (lambda_0 + len(vector))\n",
    "    lambda_N = (lambda_0 + len(vector)) * (a_N / b_N)\n",
    "    \n",
    "    return mu_N, 1/lambda_N"
   ]
  },
  {
   "cell_type": "markdown",
   "metadata": {},
   "source": [
    "Calculate $q_{\\tau}(\\tau) = Gam(\\tau|a_N,b_N)$"
   ]
  },
  {
   "cell_type": "code",
   "execution_count": 117,
   "metadata": {},
   "outputs": [],
   "source": [
    "def compute_qtau(a_0, b_0, vector, mu_N, mu_0, tau_N):\n",
    "    \n",
    "    a_N = a_0 + (len(vector) + 1) / 2\n",
    "    term1 = (1 / tau_N) + pow(mu_N,2) + pow(mu_0,2) - 2 * mu_N * mu_0\n",
    "    term2 = 0\n",
    "    for x in vector:\n",
    "        term2 += pow(x,2) + (1 / tau_N) + pow(mu_N,2) - 2 * mu_N * x\n",
    "    b_N = b_0 + 0.5 * lambda_0 * term1 + 0.5 * term2\n",
    "    \n",
    "    return a_N, b_N"
   ]
  },
  {
   "cell_type": "markdown",
   "metadata": {},
   "source": [
    "Calculate $q(\\mu, \\tau) = q_{\\mu}(\\mu)\\:q_{\\tau}(\\tau)$"
   ]
  },
  {
   "cell_type": "code",
   "execution_count": 123,
   "metadata": {},
   "outputs": [
    {
     "data": {
      "image/png": "[encoded data removed]",
      "text/plain": [
       "<Figure size 432x288 with 1 Axes>"
      ]
     },
     "metadata": {
      "needs_background": "light"
     },
     "output_type": "display_data"
    }
   ],
   "source": [
    "# Main code\n",
    "\n",
    "tau_N = (lambda_0 + len(vector)) * a_N / b_N\n",
    "mu_N, variance_N = compute_qmu(lambda_0, mu_0, vector, a_N, b_N)\n",
    "a_N, b_N = compute_qtau(a_0, b_0, vector, mu_N, mu_0, tau_N)\n",
    "q_mu = np.random.normal(mu_N, variance_N, 100)\n",
    "q_tau = np.random.gamma(a_N, b_N, 100)\n",
    "q_mu_tau = np.reshape(q_mu, (100,1)) @ np.reshape(q_tau, (1,100))\n",
    "plt.contourf(x_axis, y_axis, q_mu_tau)\n",
    "plt.show()\n"
   ]
  },
  {
   "cell_type": "code",
   "execution_count": null,
   "metadata": {},
   "outputs": [],
   "source": []
  }
 ],
 "metadata": {
  "kernelspec": {
   "display_name": "Python 3",
   "language": "python",
   "name": "python3"
  },
  "language_info": {
   "codemirror_mode": {
    "name": "ipython",
    "version": 3
   },
   "file_extension": ".py",
   "mimetype": "text/x-python",
   "name": "python",
   "nbconvert_exporter": "python",
   "pygments_lexer": "ipython3",
   "version": "3.7.4"
  }
 },
 "nbformat": 4,
 "nbformat_minor": 2
}
