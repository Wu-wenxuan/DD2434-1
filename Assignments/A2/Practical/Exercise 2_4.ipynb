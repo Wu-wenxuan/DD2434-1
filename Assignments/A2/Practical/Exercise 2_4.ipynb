{
 "cells": [
  {
   "cell_type": "markdown",
   "metadata": {},
   "source": [
    "The factorized variational approximation for posterior distribution is given by: $ q(\\mu, \\tau) = q_{\\mu}(\\mu)\\:q_{\\tau}(\\tau) $"
   ]
  },
  {
   "cell_type": "code",
   "execution_count": 88,
   "metadata": {},
   "outputs": [],
   "source": [
    "# IMPORTS\n",
    "import numpy as np\n",
    "import matplotlib.pyplot as plt\n",
    "import scipy.stats as stats"
   ]
  },
  {
   "cell_type": "code",
   "execution_count": 133,
   "metadata": {},
   "outputs": [],
   "source": [
    "# VARIABLES\n",
    "iterations = 10\n",
    "samples_number = 100\n",
    "mu_0 = 0\n",
    "tau_0 = 1\n",
    "a_0 = 1\n",
    "b_0 = 1\n",
    "a_N = 1\n",
    "b_N = 1\n",
    "x_axis = np.arange(-1,1,0.02)\n",
    "y_axis = np.arange(0,2,0.02)"
   ]
  },
  {
   "cell_type": "code",
   "execution_count": 134,
   "metadata": {},
   "outputs": [],
   "source": [
    "# SAMPLES GENERATION\n",
    "vector = np.random.normal(0,1,samples_number)"
   ]
  },
  {
   "cell_type": "markdown",
   "metadata": {},
   "source": [
    "Calculate $ q_{\\mu}(\\mu) = \\mathcal{N}(\\mu|\\mu_N, \\lambda_N^{-1})$"
   ]
  },
  {
   "cell_type": "code",
   "execution_count": 135,
   "metadata": {},
   "outputs": [],
   "source": [
    "def compute_qmu(tau_0, mu_0, vector, a_N, b_N):\n",
    "    \n",
    "    mu_N = (tau_0 * mu_0 + np.sum(vector)) / (tau_0 + len(vector))\n",
    "    tau_N = (tau_0 + len(vector)) * (a_N / b_N)\n",
    "    \n",
    "    return mu_N, tau_N"
   ]
  },
  {
   "cell_type": "markdown",
   "metadata": {},
   "source": [
    "Calculate $q_{\\tau}(\\tau) = Gam(\\tau|a_N,b_N)$"
   ]
  },
  {
   "cell_type": "code",
   "execution_count": 136,
   "metadata": {},
   "outputs": [],
   "source": [
    "def compute_qtau(a_0, b_0, vector, mu_N, mu_0, tau_N):\n",
    "    \n",
    "    a_N = a_0 + (len(vector)) / 2\n",
    "    term1 = (1 / tau_N) + pow(mu_N,2) + pow(mu_0,2) - 2 * mu_N * mu_0\n",
    "    term2 = 0\n",
    "    for x in vector:\n",
    "        term2 += pow(x,2) + (1 / tau_N) + pow(mu_N,2) - 2 * mu_N * x\n",
    "    b_N = b_0 + 0.5 * tau_0 * term1 + 0.5 * term2\n",
    "    \n",
    "    return a_N, b_N"
   ]
  },
  {
   "cell_type": "markdown",
   "metadata": {},
   "source": [
    "Iterations for value updating in $b_N, \\tau_N$"
   ]
  },
  {
   "cell_type": "code",
   "execution_count": 137,
   "metadata": {},
   "outputs": [
    {
     "name": "stdout",
     "output_type": "stream",
     "text": [
      "1\n",
      "49.598914435247806\n",
      "49.58517830226003\n",
      "49.58504363428957\n",
      "49.58504231401538\n",
      "49.58504230107149\n",
      "49.585042300944586\n",
      "49.58504230094337\n",
      "49.58504230094334\n",
      "49.58504230094334\n",
      "49.58504230094334\n"
     ]
    }
   ],
   "source": [
    "print(b_N)\n",
    "for i in range(iterations):\n",
    "    mu_N, tau_N = compute_qmu(tau_0, mu_0, vector, a_N, b_N)\n",
    "    a_N, b_N = compute_qtau(a_0, b_0, vector, mu_N, mu_0, tau_N)\n",
    "    print(b_N)"
   ]
  },
  {
   "cell_type": "markdown",
   "metadata": {},
   "source": [
    "Calculate $q(\\mu, \\tau) = q_{\\mu}(\\mu)\\:q_{\\tau}(\\tau)$"
   ]
  },
  {
   "cell_type": "code",
   "execution_count": 138,
   "metadata": {},
   "outputs": [
    {
     "data": {
      "image/png": "[encoded data removed]",
      "text/plain": [
       "<Figure size 432x288 with 1 Axes>"
      ]
     },
     "metadata": {
      "needs_background": "light"
     },
     "output_type": "display_data"
    }
   ],
   "source": [
    "# Main code\n",
    "q_mu = np.zeros(len(x_axis))\n",
    "for i in range(len(x_axis)):\n",
    "    q_mu[i] = stats.norm(mu_N, variance_N).pdf(x_axis[i])\n",
    "q_tau = np.zeros(len(y_axis))\n",
    "for i in range(len(y_axis)):\n",
    "    q_tau = stats.gamma.pdf(y_axis, a_N, scale=1/b_N)\n",
    "q_mu = q_mu.reshape(len(q_mu),1)\n",
    "q_tau = q_tau.reshape(1,len(q_tau))\n",
    "q_mu_tau = np.dot(q_mu, q_tau)\n",
    "plt.contour(x_axis, y_axis, q_mu_tau)\n",
    "plt.show()\n"
   ]
  }
 ],
 "metadata": {
  "kernelspec": {
   "display_name": "Python 3",
   "language": "python",
   "name": "python3"
  },
  "language_info": {
   "codemirror_mode": {
    "name": "ipython",
    "version": 3
   },
   "file_extension": ".py",
   "mimetype": "text/x-python",
   "name": "python",
   "nbconvert_exporter": "python",
   "pygments_lexer": "ipython3",
   "version": "3.7.4"
  }
 },
 "nbformat": 4,
 "nbformat_minor": 2
}
